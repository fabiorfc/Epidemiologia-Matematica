{
  "nbformat": 4,
  "nbformat_minor": 0,
  "metadata": {
    "colab": {
      "name": "COVID-19: Tratamento da base do SUS.ipynb",
      "provenance": [],
      "collapsed_sections": [],
      "authorship_tag": "ABX9TyMR2B9vaeRgZB1ih3myJ+En",
      "include_colab_link": true
    },
    "kernelspec": {
      "name": "python3",
      "display_name": "Python 3"
    }
  },
  "cells": [
    {
      "cell_type": "markdown",
      "metadata": {
        "id": "view-in-github",
        "colab_type": "text"
      },
      "source": [
        "<a href=\"https://colab.research.google.com/github/fabiorfc/Epidemiologia-Matematica/blob/master/COVID_19_Tratamento_da_base_do_SUS.ipynb\" target=\"_parent\"><img src=\"https://colab.research.google.com/assets/colab-badge.svg\" alt=\"Open In Colab\"/></a>"
      ]
    },
    {
      "cell_type": "markdown",
      "metadata": {
        "id": "nocUh6Nda0zR",
        "colab_type": "text"
      },
      "source": [
        "# Tratamento da base de dados"
      ]
    },
    {
      "cell_type": "markdown",
      "metadata": {
        "id": "coRWSCTXa82t",
        "colab_type": "text"
      },
      "source": [
        "___\n",
        "## 1) Escopo do notebook\n",
        "\n",
        "* Preparação do ambiente\n",
        "* Visualização prévia dos dados\n",
        "* Filtragem dos dados\n",
        "* Estimativas a partir do número de óbitos\n",
        "* Curvas de demandas por UTI\n",
        "* Gravação da base de dados"
      ]
    },
    {
      "cell_type": "markdown",
      "metadata": {
        "id": "ddInNXu_bmWN",
        "colab_type": "text"
      },
      "source": [
        "___\n",
        "## 2) Preparação do ambiente\n"
      ]
    },
    {
      "cell_type": "markdown",
      "metadata": {
        "id": "dTyPBiaXb_8i",
        "colab_type": "text"
      },
      "source": [
        "**Importação das libraries**"
      ]
    },
    {
      "cell_type": "code",
      "metadata": {
        "id": "UJ4_RXTTap-d",
        "colab_type": "code",
        "colab": {}
      },
      "source": [
        "import pandas as pd\n",
        "from math import log,isnan\n",
        "import matplotlib.pyplot as plt\n",
        "from datetime import datetime,timedelta"
      ],
      "execution_count": 1,
      "outputs": []
    },
    {
      "cell_type": "markdown",
      "metadata": {
        "id": "THcxLkfPPm3l",
        "colab_type": "text"
      },
      "source": [
        "**Funções**\n"
      ]
    },
    {
      "cell_type": "code",
      "metadata": {
        "id": "p-4Iug8xPnBY",
        "colab_type": "code",
        "colab": {}
      },
      "source": [
        "def calculador_de_estimativas(cidades):\n",
        "  \"\"\"Funcao para calcular as estimativas necessarias para o trabalho\"\"\"\n",
        "  tabela = cidades.copy()\n",
        "  # Estimativas de infectados\n",
        "  tabela.insert(loc = tabela.shape[1], column = 'infectados', value = [i / 0.00504 for i in tabela[\"obitosAcumulado\"]])\n",
        "  tabela.insert(loc = tabela.shape[1], column = 'infectados_log', value = [0 if i == 0 else log(i) for i in tabela[\"infectados\"]])\n",
        "  tabela.insert(loc = tabela.shape[1], column = 'infectados_uti', value = [i * 0.01960 for i in tabela[\"infectados\"]])\n",
        "  # Data estimada de adoecimento\n",
        "  data = tabela['data']\n",
        "  data_estimada = [i+timedelta(-7) for i in data]\n",
        "  tabela.insert(loc = tabela.shape[1], column = 'data_estimada_acometimento', value = data_estimada)\n",
        "  # Calculo das taxas de letalidade\n",
        "  letalidade_01 = tabela['obitosAcumulado'] / tabela['casosAcumulado']\n",
        "  tabela.insert(loc = tabela.shape[1], column = 'letalidade_01', value = letalidade_01)\n",
        "  # Prevalencia estimada\n",
        "  prevalencia = tabela['casosAcumulado'] / pd.to_numeric(tabela['populacaoTCU2019']) * 100000\n",
        "  tabela.insert(loc = tabela.shape[1], column = 'prevalencia', value = prevalencia)\n",
        "  # Incidência\n",
        "  incidencia = tabela['casosNovos'] / pd.to_numeric(tabela['populacaoTCU2019']) * 100000\n",
        "  tabela.insert(loc = tabela.shape[1], column = 'incidencia', value = incidencia)\n",
        "\n",
        "  return tabela"
      ],
      "execution_count": 2,
      "outputs": []
    },
    {
      "cell_type": "markdown",
      "metadata": {
        "id": "xt5-Ytqpc-eh",
        "colab_type": "text"
      },
      "source": [
        "___\n",
        "## 3) Leitura e preparação dos dados"
      ]
    },
    {
      "cell_type": "markdown",
      "metadata": {
        "id": "MOni95v6cHNB",
        "colab_type": "text"
      },
      "source": [
        "### 3.1) Base de dados do SUS\n",
        "\n",
        "[Fonte de dados](https://covid.saude.gov.br/)\n",
        "\n",
        "Base de dados que contém a incidência de casos e mortes em valores acumulados.\n",
        "\n",
        "Colunas:\n",
        "* Date: Data do registro\n",
        "* Region: Região do registro\n",
        "* State: Estado do registro\n",
        "* Cases: Número acumulado de casos\n",
        "* Deaths: Número acumulado de mortes"
      ]
    },
    {
      "cell_type": "code",
      "metadata": {
        "id": "ikOTl3ZYIc5H",
        "colab_type": "code",
        "colab": {
          "base_uri": "https://localhost:8080/",
          "height": 165
        },
        "outputId": "fb8f17fb-f097-4db9-e1ba-a376ca3a54a2"
      },
      "source": [
        "dados = pd.read_excel('HIST_PAINEL_COVIDBR_15jul2020.xlsx')\n",
        "dados.tail(2)"
      ],
      "execution_count": 4,
      "outputs": [
        {
          "output_type": "execute_result",
          "data": {
            "text/html": [
              "<div>\n",
              "<style scoped>\n",
              "    .dataframe tbody tr th:only-of-type {\n",
              "        vertical-align: middle;\n",
              "    }\n",
              "\n",
              "    .dataframe tbody tr th {\n",
              "        vertical-align: top;\n",
              "    }\n",
              "\n",
              "    .dataframe thead th {\n",
              "        text-align: right;\n",
              "    }\n",
              "</style>\n",
              "<table border=\"1\" class=\"dataframe\">\n",
              "  <thead>\n",
              "    <tr style=\"text-align: right;\">\n",
              "      <th></th>\n",
              "      <th>regiao</th>\n",
              "      <th>estado</th>\n",
              "      <th>municipio</th>\n",
              "      <th>coduf</th>\n",
              "      <th>codmun</th>\n",
              "      <th>codRegiaoSaude</th>\n",
              "      <th>nomeRegiaoSaude</th>\n",
              "      <th>data</th>\n",
              "      <th>semanaEpi</th>\n",
              "      <th>populacaoTCU2019</th>\n",
              "      <th>casosAcumulado</th>\n",
              "      <th>casosNovos</th>\n",
              "      <th>obitosAcumulado</th>\n",
              "      <th>obitosNovos</th>\n",
              "      <th>Recuperadosnovos</th>\n",
              "      <th>emAcompanhamentoNovos</th>\n",
              "      <th>interior/metropolitana</th>\n",
              "    </tr>\n",
              "  </thead>\n",
              "  <tbody>\n",
              "    <tr>\n",
              "      <th>611477</th>\n",
              "      <td>Centro-Oeste</td>\n",
              "      <td>DF</td>\n",
              "      <td>Brasília</td>\n",
              "      <td>53</td>\n",
              "      <td>530010.0</td>\n",
              "      <td>53001.0</td>\n",
              "      <td>DISTRITO FEDERAL</td>\n",
              "      <td>2020-07-14</td>\n",
              "      <td>29</td>\n",
              "      <td>3015268</td>\n",
              "      <td>73654</td>\n",
              "      <td>1370</td>\n",
              "      <td>960</td>\n",
              "      <td>30</td>\n",
              "      <td>NaN</td>\n",
              "      <td>NaN</td>\n",
              "      <td>1.0</td>\n",
              "    </tr>\n",
              "    <tr>\n",
              "      <th>611478</th>\n",
              "      <td>Centro-Oeste</td>\n",
              "      <td>DF</td>\n",
              "      <td>Brasília</td>\n",
              "      <td>53</td>\n",
              "      <td>530010.0</td>\n",
              "      <td>53001.0</td>\n",
              "      <td>DISTRITO FEDERAL</td>\n",
              "      <td>2020-07-15</td>\n",
              "      <td>29</td>\n",
              "      <td>3015268</td>\n",
              "      <td>75379</td>\n",
              "      <td>1725</td>\n",
              "      <td>1001</td>\n",
              "      <td>41</td>\n",
              "      <td>NaN</td>\n",
              "      <td>NaN</td>\n",
              "      <td>1.0</td>\n",
              "    </tr>\n",
              "  </tbody>\n",
              "</table>\n",
              "</div>"
            ],
            "text/plain": [
              "              regiao estado  ... emAcompanhamentoNovos  interior/metropolitana\n",
              "611477  Centro-Oeste     DF  ...                   NaN                     1.0\n",
              "611478  Centro-Oeste     DF  ...                   NaN                     1.0\n",
              "\n",
              "[2 rows x 17 columns]"
            ]
          },
          "metadata": {
            "tags": []
          },
          "execution_count": 4
        }
      ]
    },
    {
      "cell_type": "code",
      "metadata": {
        "id": "5pfqnRg-j3tQ",
        "colab_type": "code",
        "colab": {}
      },
      "source": [
        "dados.drop(['coduf','codmun','codRegiaoSaude','emAcompanhamentoNovos','interior/metropolitana'], axis = 1, inplace = True)"
      ],
      "execution_count": 5,
      "outputs": []
    },
    {
      "cell_type": "markdown",
      "metadata": {
        "id": "wE4u9E7cgoI1",
        "colab_type": "text"
      },
      "source": [
        "### 3.2) Filtragem dos dados"
      ]
    },
    {
      "cell_type": "code",
      "metadata": {
        "id": "3J9ky8WrgmED",
        "colab_type": "code",
        "colab": {
          "base_uri": "https://localhost:8080/",
          "height": 102
        },
        "outputId": "cd1926c4-56ae-4a14-9705-06dcc1c41e05"
      },
      "source": [
        "estado_de_sao_paulo = dados.query(\"estado == 'SP' \")\n",
        "cidade_de_sao_paulo = estado_de_sao_paulo.query(\"municipio == 'São Paulo'\")\n",
        "cidade_de_assis = estado_de_sao_paulo.query(\"municipio == 'Assis'\")\n",
        "\n",
        "print(\"Contabilização da base de dados:\")\n",
        "print(\"--- Tamanho da base geral: {}\".format(len(dados)))\n",
        "print(\"--- Tamanho da base do estado São Paulo: {}\".format(len(estado_de_sao_paulo)))\n",
        "print(\"--- Tamanho da base da cidade São Paulo: {}\".format(len(cidade_de_sao_paulo)))\n",
        "print(\"--- Tamanho da base da cidade Assis: {}\".format(len(cidade_de_assis)))"
      ],
      "execution_count": 13,
      "outputs": [
        {
          "output_type": "stream",
          "text": [
            "Contabilização da base de dados:\n",
            "--- Tamanho da base geral: 611479\n",
            "--- Tamanho da base do estado São Paulo: 71071\n",
            "--- Tamanho da base da cidade São Paulo: 111\n",
            "--- Tamanho da base da cidade Assis: 111\n"
          ],
          "name": "stdout"
        }
      ]
    },
    {
      "cell_type": "code",
      "metadata": {
        "id": "Ng7ZmAQibyFI",
        "colab_type": "code",
        "colab": {
          "base_uri": "https://localhost:8080/",
          "height": 165
        },
        "outputId": "7ed6124e-be40-4c18-d9d1-5b75a24dd6b3"
      },
      "source": [
        "cidade_de_assis.tail(2)"
      ],
      "execution_count": 14,
      "outputs": [
        {
          "output_type": "execute_result",
          "data": {
            "text/html": [
              "<div>\n",
              "<style scoped>\n",
              "    .dataframe tbody tr th:only-of-type {\n",
              "        vertical-align: middle;\n",
              "    }\n",
              "\n",
              "    .dataframe tbody tr th {\n",
              "        vertical-align: top;\n",
              "    }\n",
              "\n",
              "    .dataframe thead th {\n",
              "        text-align: right;\n",
              "    }\n",
              "</style>\n",
              "<table border=\"1\" class=\"dataframe\">\n",
              "  <thead>\n",
              "    <tr style=\"text-align: right;\">\n",
              "      <th></th>\n",
              "      <th>regiao</th>\n",
              "      <th>estado</th>\n",
              "      <th>municipio</th>\n",
              "      <th>nomeRegiaoSaude</th>\n",
              "      <th>data</th>\n",
              "      <th>semanaEpi</th>\n",
              "      <th>populacaoTCU2019</th>\n",
              "      <th>casosAcumulado</th>\n",
              "      <th>casosNovos</th>\n",
              "      <th>obitosAcumulado</th>\n",
              "      <th>obitosNovos</th>\n",
              "      <th>Recuperadosnovos</th>\n",
              "    </tr>\n",
              "  </thead>\n",
              "  <tbody>\n",
              "    <tr>\n",
              "      <th>370940</th>\n",
              "      <td>Sudeste</td>\n",
              "      <td>SP</td>\n",
              "      <td>Assis</td>\n",
              "      <td>ASSIS</td>\n",
              "      <td>2020-07-14</td>\n",
              "      <td>29</td>\n",
              "      <td>104386</td>\n",
              "      <td>348</td>\n",
              "      <td>42</td>\n",
              "      <td>14</td>\n",
              "      <td>0</td>\n",
              "      <td>NaN</td>\n",
              "    </tr>\n",
              "    <tr>\n",
              "      <th>370941</th>\n",
              "      <td>Sudeste</td>\n",
              "      <td>SP</td>\n",
              "      <td>Assis</td>\n",
              "      <td>ASSIS</td>\n",
              "      <td>2020-07-15</td>\n",
              "      <td>29</td>\n",
              "      <td>104386</td>\n",
              "      <td>353</td>\n",
              "      <td>5</td>\n",
              "      <td>14</td>\n",
              "      <td>0</td>\n",
              "      <td>NaN</td>\n",
              "    </tr>\n",
              "  </tbody>\n",
              "</table>\n",
              "</div>"
            ],
            "text/plain": [
              "         regiao estado  ... obitosNovos Recuperadosnovos\n",
              "370940  Sudeste     SP  ...           0              NaN\n",
              "370941  Sudeste     SP  ...           0              NaN\n",
              "\n",
              "[2 rows x 12 columns]"
            ]
          },
          "metadata": {
            "tags": []
          },
          "execution_count": 14
        }
      ]
    },
    {
      "cell_type": "code",
      "metadata": {
        "id": "dhvDfwlDEpKc",
        "colab_type": "code",
        "colab": {
          "base_uri": "https://localhost:8080/",
          "height": 165
        },
        "outputId": "6ce1a49e-873d-4239-beb5-c7642822059c"
      },
      "source": [
        "cidade_de_sao_paulo.tail(2)"
      ],
      "execution_count": 15,
      "outputs": [
        {
          "output_type": "execute_result",
          "data": {
            "text/html": [
              "<div>\n",
              "<style scoped>\n",
              "    .dataframe tbody tr th:only-of-type {\n",
              "        vertical-align: middle;\n",
              "    }\n",
              "\n",
              "    .dataframe tbody tr th {\n",
              "        vertical-align: top;\n",
              "    }\n",
              "\n",
              "    .dataframe thead th {\n",
              "        text-align: right;\n",
              "    }\n",
              "</style>\n",
              "<table border=\"1\" class=\"dataframe\">\n",
              "  <thead>\n",
              "    <tr style=\"text-align: right;\">\n",
              "      <th></th>\n",
              "      <th>regiao</th>\n",
              "      <th>estado</th>\n",
              "      <th>municipio</th>\n",
              "      <th>nomeRegiaoSaude</th>\n",
              "      <th>data</th>\n",
              "      <th>semanaEpi</th>\n",
              "      <th>populacaoTCU2019</th>\n",
              "      <th>casosAcumulado</th>\n",
              "      <th>casosNovos</th>\n",
              "      <th>obitosAcumulado</th>\n",
              "      <th>obitosNovos</th>\n",
              "      <th>Recuperadosnovos</th>\n",
              "    </tr>\n",
              "  </thead>\n",
              "  <tbody>\n",
              "    <tr>\n",
              "      <th>427550</th>\n",
              "      <td>Sudeste</td>\n",
              "      <td>SP</td>\n",
              "      <td>São Paulo</td>\n",
              "      <td>SAO PAULO</td>\n",
              "      <td>2020-07-14</td>\n",
              "      <td>29</td>\n",
              "      <td>12252023</td>\n",
              "      <td>158802</td>\n",
              "      <td>4789</td>\n",
              "      <td>8336</td>\n",
              "      <td>105</td>\n",
              "      <td>NaN</td>\n",
              "    </tr>\n",
              "    <tr>\n",
              "      <th>427551</th>\n",
              "      <td>Sudeste</td>\n",
              "      <td>SP</td>\n",
              "      <td>São Paulo</td>\n",
              "      <td>SAO PAULO</td>\n",
              "      <td>2020-07-15</td>\n",
              "      <td>29</td>\n",
              "      <td>12252023</td>\n",
              "      <td>160326</td>\n",
              "      <td>1524</td>\n",
              "      <td>8451</td>\n",
              "      <td>115</td>\n",
              "      <td>NaN</td>\n",
              "    </tr>\n",
              "  </tbody>\n",
              "</table>\n",
              "</div>"
            ],
            "text/plain": [
              "         regiao estado  ... obitosNovos Recuperadosnovos\n",
              "427550  Sudeste     SP  ...         105              NaN\n",
              "427551  Sudeste     SP  ...         115              NaN\n",
              "\n",
              "[2 rows x 12 columns]"
            ]
          },
          "metadata": {
            "tags": []
          },
          "execution_count": 15
        }
      ]
    },
    {
      "cell_type": "markdown",
      "metadata": {
        "id": "2mf1HrhAfMby",
        "colab_type": "text"
      },
      "source": [
        "___\n",
        "## 5) Estimativas a partir do número de óbitos\n",
        "\n",
        "Estima-se que 0,504% e 1,96% dos infectados morrem e precisam de uma unidade de internação, respectivamente\n",
        "\n",
        "As taxas de incidência e mortalidade aqui apresentadas são baseadas nos cálculos apresentados em [Pan American Health Organization](https://www.paho.org/hq/index.php?option=com_content&view=article&id=14402:health-indicators-conceptual-and-operational-considerations-section-2&Itemid=0&limitstart=2&lang=pt)\n"
      ]
    },
    {
      "cell_type": "markdown",
      "metadata": {
        "id": "6KbhrqlehvSy",
        "colab_type": "text"
      },
      "source": [
        "1. **Estimativa do número de infectados**\n",
        "\n",
        "\\begin{equation}\n",
        "infectados = \\frac{mortes}{0.00504} \\tag{1}\n",
        "\\end{equation}\n",
        "\n",
        "\\\n",
        "\n",
        "2. **Estimativa do número de infectados com necessidade de UTI**\n",
        "\n",
        "\\\n",
        "\n",
        "\\begin{equation}\n",
        "infectados-com-necessidade-de-uti = 0.0196 * infectados \\tag{2}\n",
        "\\end{equation}\n",
        "\n",
        "\\\n",
        "\n",
        "3. **Incidência**\n",
        "\n",
        "Define-se como cidência pode ser interpretada como a probabilidade de um indivíduo pertencente à população de risco ser acometido pelo patógeno\n",
        "\n",
        "\\\n",
        "\n",
        "\\begin{equation}\n",
        "incidencia = \\frac{novos casos}{população De Risco} * 100.000\n",
        "\\end{equation}\n",
        "\n",
        "\\\n",
        "\n",
        "4. **Prevalência**\n",
        "\n",
        "A taxa de prevalência é definida como o número de indivíduos acometidos pelo patógeno, dividida pela população. Essa taxa pode ser interpretada como a probabilidade de um invíduo pertencente à população-base seja afetado pelo patógeno\n",
        "\n",
        "\\\n",
        "\n",
        "\\begin{equation}\n",
        "prevalencia = \\frac{total de casos}{populacao base} * 100.000\n",
        "\\end{equation}\n",
        "\n",
        "\\\n",
        "\n",
        "4. **Cálculo da letalidade do vírus**\n",
        "\n",
        "\\begin{equation}\n",
        "letalidade = \\frac{mortes}{mortes + recuperados} \\tag{3}\n",
        "\\end{equation}\n",
        "\n",
        "* **Cálculo da letalidade estimada do vírus**\n",
        "\n",
        "\\begin{equation}\n",
        "letalidade = \\frac{mortes}{Infectados} \\tag{3}\n",
        "\\end{equation}\n"
      ]
    },
    {
      "cell_type": "markdown",
      "metadata": {
        "id": "m9U8tLo8aK_H",
        "colab_type": "text"
      },
      "source": [
        "### 5.1) Estimativas para a cidade de São Paulo"
      ]
    },
    {
      "cell_type": "code",
      "metadata": {
        "id": "BMTQHW-uZacz",
        "colab_type": "code",
        "colab": {
          "base_uri": "https://localhost:8080/",
          "height": 165
        },
        "outputId": "4b0770ad-81a6-4a53-af2d-47fc6b16cd9c"
      },
      "source": [
        "cidade_de_sao_paulo = calculador_de_estimativas(cidade_de_sao_paulo)\n",
        "cidade_de_sao_paulo.tail(2)"
      ],
      "execution_count": 16,
      "outputs": [
        {
          "output_type": "execute_result",
          "data": {
            "text/html": [
              "<div>\n",
              "<style scoped>\n",
              "    .dataframe tbody tr th:only-of-type {\n",
              "        vertical-align: middle;\n",
              "    }\n",
              "\n",
              "    .dataframe tbody tr th {\n",
              "        vertical-align: top;\n",
              "    }\n",
              "\n",
              "    .dataframe thead th {\n",
              "        text-align: right;\n",
              "    }\n",
              "</style>\n",
              "<table border=\"1\" class=\"dataframe\">\n",
              "  <thead>\n",
              "    <tr style=\"text-align: right;\">\n",
              "      <th></th>\n",
              "      <th>regiao</th>\n",
              "      <th>estado</th>\n",
              "      <th>municipio</th>\n",
              "      <th>nomeRegiaoSaude</th>\n",
              "      <th>data</th>\n",
              "      <th>semanaEpi</th>\n",
              "      <th>populacaoTCU2019</th>\n",
              "      <th>casosAcumulado</th>\n",
              "      <th>casosNovos</th>\n",
              "      <th>obitosAcumulado</th>\n",
              "      <th>obitosNovos</th>\n",
              "      <th>Recuperadosnovos</th>\n",
              "      <th>infectados</th>\n",
              "      <th>infectados_log</th>\n",
              "      <th>infectados_uti</th>\n",
              "      <th>data_estimada_acometimento</th>\n",
              "      <th>letalidade_01</th>\n",
              "      <th>prevalencia</th>\n",
              "      <th>incidencia</th>\n",
              "    </tr>\n",
              "  </thead>\n",
              "  <tbody>\n",
              "    <tr>\n",
              "      <th>427550</th>\n",
              "      <td>Sudeste</td>\n",
              "      <td>SP</td>\n",
              "      <td>São Paulo</td>\n",
              "      <td>SAO PAULO</td>\n",
              "      <td>2020-07-14</td>\n",
              "      <td>29</td>\n",
              "      <td>12252023</td>\n",
              "      <td>158802</td>\n",
              "      <td>4789</td>\n",
              "      <td>8336</td>\n",
              "      <td>105</td>\n",
              "      <td>NaN</td>\n",
              "      <td>1.653968e+06</td>\n",
              "      <td>14.318688</td>\n",
              "      <td>32417.777778</td>\n",
              "      <td>2020-07-07</td>\n",
              "      <td>0.052493</td>\n",
              "      <td>1296.128811</td>\n",
              "      <td>39.087423</td>\n",
              "    </tr>\n",
              "    <tr>\n",
              "      <th>427551</th>\n",
              "      <td>Sudeste</td>\n",
              "      <td>SP</td>\n",
              "      <td>São Paulo</td>\n",
              "      <td>SAO PAULO</td>\n",
              "      <td>2020-07-15</td>\n",
              "      <td>29</td>\n",
              "      <td>12252023</td>\n",
              "      <td>160326</td>\n",
              "      <td>1524</td>\n",
              "      <td>8451</td>\n",
              "      <td>115</td>\n",
              "      <td>NaN</td>\n",
              "      <td>1.676786e+06</td>\n",
              "      <td>14.332389</td>\n",
              "      <td>32865.000000</td>\n",
              "      <td>2020-07-08</td>\n",
              "      <td>0.052711</td>\n",
              "      <td>1308.567573</td>\n",
              "      <td>12.438762</td>\n",
              "    </tr>\n",
              "  </tbody>\n",
              "</table>\n",
              "</div>"
            ],
            "text/plain": [
              "         regiao estado  municipio  ... letalidade_01  prevalencia  incidencia\n",
              "427550  Sudeste     SP  São Paulo  ...      0.052493  1296.128811   39.087423\n",
              "427551  Sudeste     SP  São Paulo  ...      0.052711  1308.567573   12.438762\n",
              "\n",
              "[2 rows x 19 columns]"
            ]
          },
          "metadata": {
            "tags": []
          },
          "execution_count": 16
        }
      ]
    },
    {
      "cell_type": "markdown",
      "metadata": {
        "id": "u0GUzH7haVN5",
        "colab_type": "text"
      },
      "source": [
        "### 5.2) Estimativas para a cidade de Assis"
      ]
    },
    {
      "cell_type": "code",
      "metadata": {
        "id": "oudwTsQ2inDU",
        "colab_type": "code",
        "colab": {
          "base_uri": "https://localhost:8080/",
          "height": 165
        },
        "outputId": "a896597f-37fb-4866-a5da-965f502c6a4a"
      },
      "source": [
        "cidade_de_assis = calculador_de_estimativas(cidade_de_assis)\n",
        "cidade_de_assis.tail(2)"
      ],
      "execution_count": 17,
      "outputs": [
        {
          "output_type": "execute_result",
          "data": {
            "text/html": [
              "<div>\n",
              "<style scoped>\n",
              "    .dataframe tbody tr th:only-of-type {\n",
              "        vertical-align: middle;\n",
              "    }\n",
              "\n",
              "    .dataframe tbody tr th {\n",
              "        vertical-align: top;\n",
              "    }\n",
              "\n",
              "    .dataframe thead th {\n",
              "        text-align: right;\n",
              "    }\n",
              "</style>\n",
              "<table border=\"1\" class=\"dataframe\">\n",
              "  <thead>\n",
              "    <tr style=\"text-align: right;\">\n",
              "      <th></th>\n",
              "      <th>regiao</th>\n",
              "      <th>estado</th>\n",
              "      <th>municipio</th>\n",
              "      <th>nomeRegiaoSaude</th>\n",
              "      <th>data</th>\n",
              "      <th>semanaEpi</th>\n",
              "      <th>populacaoTCU2019</th>\n",
              "      <th>casosAcumulado</th>\n",
              "      <th>casosNovos</th>\n",
              "      <th>obitosAcumulado</th>\n",
              "      <th>obitosNovos</th>\n",
              "      <th>Recuperadosnovos</th>\n",
              "      <th>infectados</th>\n",
              "      <th>infectados_log</th>\n",
              "      <th>infectados_uti</th>\n",
              "      <th>data_estimada_acometimento</th>\n",
              "      <th>letalidade_01</th>\n",
              "      <th>prevalencia</th>\n",
              "      <th>incidencia</th>\n",
              "    </tr>\n",
              "  </thead>\n",
              "  <tbody>\n",
              "    <tr>\n",
              "      <th>370940</th>\n",
              "      <td>Sudeste</td>\n",
              "      <td>SP</td>\n",
              "      <td>Assis</td>\n",
              "      <td>ASSIS</td>\n",
              "      <td>2020-07-14</td>\n",
              "      <td>29</td>\n",
              "      <td>104386</td>\n",
              "      <td>348</td>\n",
              "      <td>42</td>\n",
              "      <td>14</td>\n",
              "      <td>0</td>\n",
              "      <td>NaN</td>\n",
              "      <td>2777.777778</td>\n",
              "      <td>7.929407</td>\n",
              "      <td>54.444444</td>\n",
              "      <td>2020-07-07</td>\n",
              "      <td>0.04023</td>\n",
              "      <td>333.378039</td>\n",
              "      <td>40.235281</td>\n",
              "    </tr>\n",
              "    <tr>\n",
              "      <th>370941</th>\n",
              "      <td>Sudeste</td>\n",
              "      <td>SP</td>\n",
              "      <td>Assis</td>\n",
              "      <td>ASSIS</td>\n",
              "      <td>2020-07-15</td>\n",
              "      <td>29</td>\n",
              "      <td>104386</td>\n",
              "      <td>353</td>\n",
              "      <td>5</td>\n",
              "      <td>14</td>\n",
              "      <td>0</td>\n",
              "      <td>NaN</td>\n",
              "      <td>2777.777778</td>\n",
              "      <td>7.929407</td>\n",
              "      <td>54.444444</td>\n",
              "      <td>2020-07-08</td>\n",
              "      <td>0.03966</td>\n",
              "      <td>338.167954</td>\n",
              "      <td>4.789914</td>\n",
              "    </tr>\n",
              "  </tbody>\n",
              "</table>\n",
              "</div>"
            ],
            "text/plain": [
              "         regiao estado municipio  ... letalidade_01 prevalencia  incidencia\n",
              "370940  Sudeste     SP     Assis  ...       0.04023  333.378039   40.235281\n",
              "370941  Sudeste     SP     Assis  ...       0.03966  338.167954    4.789914\n",
              "\n",
              "[2 rows x 19 columns]"
            ]
          },
          "metadata": {
            "tags": []
          },
          "execution_count": 17
        }
      ]
    },
    {
      "cell_type": "markdown",
      "metadata": {
        "id": "4vW3ywSJnWuF",
        "colab_type": "text"
      },
      "source": [
        "## 6) Gravação da base de dados\n"
      ]
    },
    {
      "cell_type": "code",
      "metadata": {
        "id": "kCZN0svinWKg",
        "colab_type": "code",
        "colab": {}
      },
      "source": [
        "cidade_de_sao_paulo.to_csv('sao_paulo.csv', index = False)\n",
        "cidade_de_assis.to_csv('assis.csv', index = False)"
      ],
      "execution_count": 18,
      "outputs": []
    }
  ]
}